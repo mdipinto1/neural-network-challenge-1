{
  "cells": [
    {
      "cell_type": "markdown",
      "metadata": {
        "id": "T7ZNhGcW6q6r"
      },
      "source": [
        "# Student Loan Risk with Deep Learning"
      ]
    },
    {
      "cell_type": "code",
      "execution_count": 84,
      "metadata": {
        "id": "0otrXpJc6q6u"
      },
      "outputs": [],
      "source": [
        "# Imports\n",
        "import pandas as pd\n",
        "import tensorflow as tf\n",
        "from tensorflow.keras.layers import Dense\n",
        "from tensorflow.keras.models import Sequential\n",
        "from sklearn.model_selection import train_test_split\n",
        "from sklearn.preprocessing import StandardScaler\n",
        "from sklearn.metrics import classification_report\n",
        "from pathlib import Path"
      ]
    },
    {
      "cell_type": "markdown",
      "metadata": {
        "id": "OpV4Y-3Z6q6w"
      },
      "source": [
        "---\n",
        "\n",
        "## Prepare the data to be used on a neural network model"
      ]
    },
    {
      "cell_type": "markdown",
      "metadata": {
        "id": "TUuSzp2l6q6w"
      },
      "source": [
        "### Step 1: Read the `student-loans.csv` file into a Pandas DataFrame. Review the DataFrame, looking for columns that could eventually define your features and target variables.   "
      ]
    },
    {
      "cell_type": "code",
      "execution_count": 85,
      "metadata": {
        "colab": {
          "base_uri": "https://localhost:8080/",
          "height": 226
        },
        "id": "G65km1KD6q6x",
        "outputId": "93d12d8d-c415-4017-8452-5b4966e4dde5"
      },
      "outputs": [
        {
          "data": {
            "text/html": [
              "<div>\n",
              "<style scoped>\n",
              "    .dataframe tbody tr th:only-of-type {\n",
              "        vertical-align: middle;\n",
              "    }\n",
              "\n",
              "    .dataframe tbody tr th {\n",
              "        vertical-align: top;\n",
              "    }\n",
              "\n",
              "    .dataframe thead th {\n",
              "        text-align: right;\n",
              "    }\n",
              "</style>\n",
              "<table border=\"1\" class=\"dataframe\">\n",
              "  <thead>\n",
              "    <tr style=\"text-align: right;\">\n",
              "      <th></th>\n",
              "      <th>payment_history</th>\n",
              "      <th>location_parameter</th>\n",
              "      <th>stem_degree_score</th>\n",
              "      <th>gpa_ranking</th>\n",
              "      <th>alumni_success</th>\n",
              "      <th>study_major_code</th>\n",
              "      <th>time_to_completion</th>\n",
              "      <th>finance_workshop_score</th>\n",
              "      <th>cohort_ranking</th>\n",
              "      <th>total_loan_score</th>\n",
              "      <th>financial_aid_score</th>\n",
              "      <th>credit_ranking</th>\n",
              "    </tr>\n",
              "  </thead>\n",
              "  <tbody>\n",
              "    <tr>\n",
              "      <th>0</th>\n",
              "      <td>7.4</td>\n",
              "      <td>0.70</td>\n",
              "      <td>0.00</td>\n",
              "      <td>1.9</td>\n",
              "      <td>0.076</td>\n",
              "      <td>11.0</td>\n",
              "      <td>34.0</td>\n",
              "      <td>0.9978</td>\n",
              "      <td>3.51</td>\n",
              "      <td>0.56</td>\n",
              "      <td>9.4</td>\n",
              "      <td>0</td>\n",
              "    </tr>\n",
              "    <tr>\n",
              "      <th>1</th>\n",
              "      <td>7.8</td>\n",
              "      <td>0.88</td>\n",
              "      <td>0.00</td>\n",
              "      <td>2.6</td>\n",
              "      <td>0.098</td>\n",
              "      <td>25.0</td>\n",
              "      <td>67.0</td>\n",
              "      <td>0.9968</td>\n",
              "      <td>3.20</td>\n",
              "      <td>0.68</td>\n",
              "      <td>9.8</td>\n",
              "      <td>0</td>\n",
              "    </tr>\n",
              "    <tr>\n",
              "      <th>2</th>\n",
              "      <td>7.8</td>\n",
              "      <td>0.76</td>\n",
              "      <td>0.04</td>\n",
              "      <td>2.3</td>\n",
              "      <td>0.092</td>\n",
              "      <td>15.0</td>\n",
              "      <td>54.0</td>\n",
              "      <td>0.9970</td>\n",
              "      <td>3.26</td>\n",
              "      <td>0.65</td>\n",
              "      <td>9.8</td>\n",
              "      <td>0</td>\n",
              "    </tr>\n",
              "    <tr>\n",
              "      <th>3</th>\n",
              "      <td>11.2</td>\n",
              "      <td>0.28</td>\n",
              "      <td>0.56</td>\n",
              "      <td>1.9</td>\n",
              "      <td>0.075</td>\n",
              "      <td>17.0</td>\n",
              "      <td>60.0</td>\n",
              "      <td>0.9980</td>\n",
              "      <td>3.16</td>\n",
              "      <td>0.58</td>\n",
              "      <td>9.8</td>\n",
              "      <td>1</td>\n",
              "    </tr>\n",
              "    <tr>\n",
              "      <th>4</th>\n",
              "      <td>7.4</td>\n",
              "      <td>0.70</td>\n",
              "      <td>0.00</td>\n",
              "      <td>1.9</td>\n",
              "      <td>0.076</td>\n",
              "      <td>11.0</td>\n",
              "      <td>34.0</td>\n",
              "      <td>0.9978</td>\n",
              "      <td>3.51</td>\n",
              "      <td>0.56</td>\n",
              "      <td>9.4</td>\n",
              "      <td>0</td>\n",
              "    </tr>\n",
              "  </tbody>\n",
              "</table>\n",
              "</div>"
            ],
            "text/plain": [
              "   payment_history  location_parameter  stem_degree_score  gpa_ranking  \\\n",
              "0              7.4                0.70               0.00          1.9   \n",
              "1              7.8                0.88               0.00          2.6   \n",
              "2              7.8                0.76               0.04          2.3   \n",
              "3             11.2                0.28               0.56          1.9   \n",
              "4              7.4                0.70               0.00          1.9   \n",
              "\n",
              "   alumni_success  study_major_code  time_to_completion  \\\n",
              "0           0.076              11.0                34.0   \n",
              "1           0.098              25.0                67.0   \n",
              "2           0.092              15.0                54.0   \n",
              "3           0.075              17.0                60.0   \n",
              "4           0.076              11.0                34.0   \n",
              "\n",
              "   finance_workshop_score  cohort_ranking  total_loan_score  \\\n",
              "0                  0.9978            3.51              0.56   \n",
              "1                  0.9968            3.20              0.68   \n",
              "2                  0.9970            3.26              0.65   \n",
              "3                  0.9980            3.16              0.58   \n",
              "4                  0.9978            3.51              0.56   \n",
              "\n",
              "   financial_aid_score  credit_ranking  \n",
              "0                  9.4               0  \n",
              "1                  9.8               0  \n",
              "2                  9.8               0  \n",
              "3                  9.8               1  \n",
              "4                  9.4               0  "
            ]
          },
          "execution_count": 85,
          "metadata": {},
          "output_type": "execute_result"
        }
      ],
      "source": [
        "# Read the csv into a Pandas DataFrame\n",
        "file_path = \"https://static.bc-edx.com/ai/ail-v-1-0/m18/lms/datasets/student-loans.csv\"\n",
        "loans_df = pd.read_csv(file_path)\n",
        "\n",
        "# Review the DataFrame\n",
        "loans_df.head()"
      ]
    },
    {
      "cell_type": "code",
      "execution_count": 86,
      "metadata": {
        "colab": {
          "base_uri": "https://localhost:8080/"
        },
        "id": "K8ZYB8wx6q6x",
        "outputId": "b509fc34-4488-406e-e451-2069fec37371"
      },
      "outputs": [
        {
          "data": {
            "text/plain": [
              "payment_history           float64\n",
              "location_parameter        float64\n",
              "stem_degree_score         float64\n",
              "gpa_ranking               float64\n",
              "alumni_success            float64\n",
              "study_major_code          float64\n",
              "time_to_completion        float64\n",
              "finance_workshop_score    float64\n",
              "cohort_ranking            float64\n",
              "total_loan_score          float64\n",
              "financial_aid_score       float64\n",
              "credit_ranking              int64\n",
              "dtype: object"
            ]
          },
          "execution_count": 86,
          "metadata": {},
          "output_type": "execute_result"
        }
      ],
      "source": [
        "# Review the data types associated with the columns\n",
        "loans_df.dtypes"
      ]
    },
    {
      "cell_type": "code",
      "execution_count": 87,
      "metadata": {
        "colab": {
          "base_uri": "https://localhost:8080/"
        },
        "id": "9P8aX-dW75JO",
        "outputId": "63251fa8-5ac1-4112-c2f7-bc5d97ea8491"
      },
      "outputs": [
        {
          "data": {
            "text/plain": [
              "credit_ranking\n",
              "1    855\n",
              "0    744\n",
              "Name: count, dtype: int64"
            ]
          },
          "execution_count": 87,
          "metadata": {},
          "output_type": "execute_result"
        }
      ],
      "source": [
        "# Check the credit_ranking value counts\n",
        "loans_df[\"credit_ranking\"].value_counts()"
      ]
    },
    {
      "cell_type": "markdown",
      "metadata": {
        "id": "R6vbZeDH6q6y"
      },
      "source": [
        "### Step 2: Using the preprocessed data, create the features (`X`) and target (`y`) datasets. The target dataset should be defined by the preprocessed DataFrame column “credit_ranking”. The remaining columns should define the features dataset."
      ]
    },
    {
      "cell_type": "code",
      "execution_count": 88,
      "metadata": {
        "colab": {
          "base_uri": "https://localhost:8080/"
        },
        "id": "Q5eVAP5M6q6y",
        "outputId": "89728bbf-6930-4573-a126-9f1b66ed8859"
      },
      "outputs": [
        {
          "data": {
            "text/plain": [
              "0    0\n",
              "1    0\n",
              "2    0\n",
              "3    1\n",
              "4    0\n",
              "Name: credit_ranking, dtype: int64"
            ]
          },
          "execution_count": 88,
          "metadata": {},
          "output_type": "execute_result"
        }
      ],
      "source": [
        "# Define the target set y using the credit_ranking column\n",
        "y = loans_df[\"credit_ranking\"]\n",
        "\n",
        "# Display a sample of y\n",
        "y[:5]"
      ]
    },
    {
      "cell_type": "code",
      "execution_count": 89,
      "metadata": {
        "colab": {
          "base_uri": "https://localhost:8080/",
          "height": 226
        },
        "id": "IIkrD2Sn6q6z",
        "outputId": "ce07c4a3-fb81-4657-d11e-ec85ae8554c9"
      },
      "outputs": [
        {
          "data": {
            "text/html": [
              "<div>\n",
              "<style scoped>\n",
              "    .dataframe tbody tr th:only-of-type {\n",
              "        vertical-align: middle;\n",
              "    }\n",
              "\n",
              "    .dataframe tbody tr th {\n",
              "        vertical-align: top;\n",
              "    }\n",
              "\n",
              "    .dataframe thead th {\n",
              "        text-align: right;\n",
              "    }\n",
              "</style>\n",
              "<table border=\"1\" class=\"dataframe\">\n",
              "  <thead>\n",
              "    <tr style=\"text-align: right;\">\n",
              "      <th></th>\n",
              "      <th>payment_history</th>\n",
              "      <th>location_parameter</th>\n",
              "      <th>stem_degree_score</th>\n",
              "      <th>gpa_ranking</th>\n",
              "      <th>alumni_success</th>\n",
              "      <th>study_major_code</th>\n",
              "      <th>time_to_completion</th>\n",
              "      <th>finance_workshop_score</th>\n",
              "      <th>cohort_ranking</th>\n",
              "      <th>total_loan_score</th>\n",
              "      <th>financial_aid_score</th>\n",
              "    </tr>\n",
              "  </thead>\n",
              "  <tbody>\n",
              "    <tr>\n",
              "      <th>0</th>\n",
              "      <td>7.4</td>\n",
              "      <td>0.70</td>\n",
              "      <td>0.00</td>\n",
              "      <td>1.9</td>\n",
              "      <td>0.076</td>\n",
              "      <td>11.0</td>\n",
              "      <td>34.0</td>\n",
              "      <td>0.9978</td>\n",
              "      <td>3.51</td>\n",
              "      <td>0.56</td>\n",
              "      <td>9.4</td>\n",
              "    </tr>\n",
              "    <tr>\n",
              "      <th>1</th>\n",
              "      <td>7.8</td>\n",
              "      <td>0.88</td>\n",
              "      <td>0.00</td>\n",
              "      <td>2.6</td>\n",
              "      <td>0.098</td>\n",
              "      <td>25.0</td>\n",
              "      <td>67.0</td>\n",
              "      <td>0.9968</td>\n",
              "      <td>3.20</td>\n",
              "      <td>0.68</td>\n",
              "      <td>9.8</td>\n",
              "    </tr>\n",
              "    <tr>\n",
              "      <th>2</th>\n",
              "      <td>7.8</td>\n",
              "      <td>0.76</td>\n",
              "      <td>0.04</td>\n",
              "      <td>2.3</td>\n",
              "      <td>0.092</td>\n",
              "      <td>15.0</td>\n",
              "      <td>54.0</td>\n",
              "      <td>0.9970</td>\n",
              "      <td>3.26</td>\n",
              "      <td>0.65</td>\n",
              "      <td>9.8</td>\n",
              "    </tr>\n",
              "    <tr>\n",
              "      <th>3</th>\n",
              "      <td>11.2</td>\n",
              "      <td>0.28</td>\n",
              "      <td>0.56</td>\n",
              "      <td>1.9</td>\n",
              "      <td>0.075</td>\n",
              "      <td>17.0</td>\n",
              "      <td>60.0</td>\n",
              "      <td>0.9980</td>\n",
              "      <td>3.16</td>\n",
              "      <td>0.58</td>\n",
              "      <td>9.8</td>\n",
              "    </tr>\n",
              "    <tr>\n",
              "      <th>4</th>\n",
              "      <td>7.4</td>\n",
              "      <td>0.70</td>\n",
              "      <td>0.00</td>\n",
              "      <td>1.9</td>\n",
              "      <td>0.076</td>\n",
              "      <td>11.0</td>\n",
              "      <td>34.0</td>\n",
              "      <td>0.9978</td>\n",
              "      <td>3.51</td>\n",
              "      <td>0.56</td>\n",
              "      <td>9.4</td>\n",
              "    </tr>\n",
              "  </tbody>\n",
              "</table>\n",
              "</div>"
            ],
            "text/plain": [
              "   payment_history  location_parameter  stem_degree_score  gpa_ranking  \\\n",
              "0              7.4                0.70               0.00          1.9   \n",
              "1              7.8                0.88               0.00          2.6   \n",
              "2              7.8                0.76               0.04          2.3   \n",
              "3             11.2                0.28               0.56          1.9   \n",
              "4              7.4                0.70               0.00          1.9   \n",
              "\n",
              "   alumni_success  study_major_code  time_to_completion  \\\n",
              "0           0.076              11.0                34.0   \n",
              "1           0.098              25.0                67.0   \n",
              "2           0.092              15.0                54.0   \n",
              "3           0.075              17.0                60.0   \n",
              "4           0.076              11.0                34.0   \n",
              "\n",
              "   finance_workshop_score  cohort_ranking  total_loan_score  \\\n",
              "0                  0.9978            3.51              0.56   \n",
              "1                  0.9968            3.20              0.68   \n",
              "2                  0.9970            3.26              0.65   \n",
              "3                  0.9980            3.16              0.58   \n",
              "4                  0.9978            3.51              0.56   \n",
              "\n",
              "   financial_aid_score  \n",
              "0                  9.4  \n",
              "1                  9.8  \n",
              "2                  9.8  \n",
              "3                  9.8  \n",
              "4                  9.4  "
            ]
          },
          "execution_count": 89,
          "metadata": {},
          "output_type": "execute_result"
        }
      ],
      "source": [
        "# Define features set X by selecting all columns but credit_ranking\n",
        "X = loans_df.drop(columns=\"credit_ranking\")\n",
        "\n",
        "# Review the features DataFrame\n",
        "X.head()"
      ]
    },
    {
      "cell_type": "markdown",
      "metadata": {
        "id": "QmM9c-tj6q6z"
      },
      "source": [
        "### Step 3: Split the features and target sets into training and testing datasets.\n"
      ]
    },
    {
      "cell_type": "code",
      "execution_count": 90,
      "metadata": {
        "id": "OD7xwU_96q6z"
      },
      "outputs": [
        {
          "name": "stdout",
          "output_type": "stream",
          "text": [
            "Length of x_train: 1199\n",
            "Length of x_test: 400\n"
          ]
        }
      ],
      "source": [
        "# Split the preprocessed data into a training and testing dataset\n",
        "# Assign the function a random_state equal to 1\n",
        "x_train, x_test, y_train, y_test = train_test_split(X, y, random_state=1)\n",
        "\n",
        "print(f\"Length of x_train: {len(x_train)}\")\n",
        "print(f\"Length of x_test: {len(x_test)}\")"
      ]
    },
    {
      "cell_type": "markdown",
      "metadata": {
        "id": "G9i6DHY06q6z"
      },
      "source": [
        "### Step 4: Use scikit-learn's `StandardScaler` to scale the features data."
      ]
    },
    {
      "cell_type": "code",
      "execution_count": 91,
      "metadata": {
        "id": "BzD3z20m6q6z"
      },
      "outputs": [],
      "source": [
        "# Create a StandardScaler instance\n",
        "scaler = StandardScaler()\n",
        "\n",
        "# Fit the scaler to the features training dataset\n",
        "scaler.fit(x_train)\n",
        "\n",
        "# Fit the scaler to the features training dataset\n",
        "x_train_scaled = scaler.transform(x_train)\n",
        "x_test_scaled = scaler.transform(x_test)    "
      ]
    },
    {
      "cell_type": "markdown",
      "metadata": {
        "id": "CZzVDjba6q6z"
      },
      "source": [
        "---\n",
        "\n",
        "## Compile and Evaluate a Model Using a Neural Network"
      ]
    },
    {
      "cell_type": "markdown",
      "metadata": {
        "id": "m-pSux4Q6q60"
      },
      "source": [
        "### Step 1: Create a deep neural network by assigning the number of input features, the number of layers, and the number of neurons on each layer using Tensorflow’s Keras.\n",
        "\n",
        "> **Hint** You can start with a two-layer deep neural network model that uses the `relu` activation function for both layers.\n"
      ]
    },
    {
      "cell_type": "code",
      "execution_count": 92,
      "metadata": {
        "colab": {
          "base_uri": "https://localhost:8080/"
        },
        "id": "t5C94FCd6q60",
        "outputId": "cbf05783-2f56-4745-cd33-649a6152e510"
      },
      "outputs": [
        {
          "data": {
            "text/plain": [
              "11"
            ]
          },
          "execution_count": 92,
          "metadata": {},
          "output_type": "execute_result"
        }
      ],
      "source": [
        "# Define the the number of inputs (features) to the model\n",
        "input_length = len(x_train_scaled[0])\n",
        "\n",
        "# Review the number of features\n",
        "input_length"
      ]
    },
    {
      "cell_type": "code",
      "execution_count": 93,
      "metadata": {
        "id": "c_KXDLkF6q60"
      },
      "outputs": [],
      "source": [
        "# Define the number of hidden nodes for the first hidden layer\n",
        "hidden_nodes_layer1 = 11\n",
        "\n",
        "# Define the number of hidden nodes for the second hidden layer\n",
        "hidden_nodes_layer2 = 18\n",
        "\n",
        "# Define the number of neurons in the output layer\n",
        "output_nodes = 1"
      ]
    },
    {
      "cell_type": "code",
      "execution_count": 94,
      "metadata": {
        "id": "63UdFncw6q60"
      },
      "outputs": [],
      "source": [
        "# Create the Sequential model instance\n",
        "model = Sequential()\n",
        "\n",
        "# Add the first hidden layer\n",
        "model.add(Dense(units=hidden_nodes_layer1, input_dim=input_length, activation=\"relu\"))\n",
        "\n",
        "# Add the second hidden layer\n",
        "model.add(Dense(units=hidden_nodes_layer2, activation=\"relu\"))\n",
        "\n",
        "# Add the output layer to the model specifying the number of output neurons and activation function\n",
        "model.add(Dense(units=output_nodes, activation=\"sigmoid\"))"
      ]
    },
    {
      "cell_type": "code",
      "execution_count": 95,
      "metadata": {
        "colab": {
          "base_uri": "https://localhost:8080/"
        },
        "id": "-Beoh4f_6q61",
        "outputId": "2e50f810-086b-4d89-bf7d-98afbe0d649d"
      },
      "outputs": [
        {
          "name": "stdout",
          "output_type": "stream",
          "text": [
            "Model: \"sequential_5\"\n",
            "_________________________________________________________________\n",
            " Layer (type)                Output Shape              Param #   \n",
            "=================================================================\n",
            " dense_9 (Dense)             (None, 11)                132       \n",
            "                                                                 \n",
            " dense_10 (Dense)            (None, 18)                216       \n",
            "                                                                 \n",
            " dense_11 (Dense)            (None, 1)                 19        \n",
            "                                                                 \n",
            "=================================================================\n",
            "Total params: 367 (1.43 KB)\n",
            "Trainable params: 367 (1.43 KB)\n",
            "Non-trainable params: 0 (0.00 Byte)\n",
            "_________________________________________________________________\n"
          ]
        }
      ],
      "source": [
        "# Display the Sequential model summary\n",
        "model.summary()"
      ]
    },
    {
      "cell_type": "markdown",
      "metadata": {
        "id": "nRqWGIRo6q61"
      },
      "source": [
        "### Step 2: Compile and fit the model using the `binary_crossentropy` loss function, the `adam` optimizer, and the `accuracy` evaluation metric.\n"
      ]
    },
    {
      "cell_type": "code",
      "execution_count": 96,
      "metadata": {
        "id": "E-hZaeSn6q61"
      },
      "outputs": [],
      "source": [
        "# Compile the Sequential model\n",
        "model.compile(loss=\"binary_crossentropy\", optimizer=\"adam\", metrics=[\"accuracy\"])"
      ]
    },
    {
      "cell_type": "code",
      "execution_count": 97,
      "metadata": {
        "colab": {
          "base_uri": "https://localhost:8080/"
        },
        "id": "x25e8Idc6q61",
        "outputId": "e95946ba-23da-47a3-a1c1-5e9a2a484a47"
      },
      "outputs": [
        {
          "name": "stdout",
          "output_type": "stream",
          "text": [
            "Epoch 1/50\n"
          ]
        },
        {
          "name": "stdout",
          "output_type": "stream",
          "text": [
            "38/38 - 1s - loss: 0.6526 - accuracy: 0.6555 - val_loss: 0.6341 - val_accuracy: 0.6700 - 599ms/epoch - 16ms/step\n",
            "Epoch 2/50\n",
            "38/38 - 0s - loss: 0.6085 - accuracy: 0.7098 - val_loss: 0.5945 - val_accuracy: 0.6950 - 61ms/epoch - 2ms/step\n",
            "Epoch 3/50\n",
            "38/38 - 0s - loss: 0.5740 - accuracy: 0.7223 - val_loss: 0.5611 - val_accuracy: 0.7225 - 69ms/epoch - 2ms/step\n",
            "Epoch 4/50\n",
            "38/38 - 0s - loss: 0.5464 - accuracy: 0.7314 - val_loss: 0.5402 - val_accuracy: 0.7250 - 96ms/epoch - 3ms/step\n",
            "Epoch 5/50\n",
            "38/38 - 0s - loss: 0.5309 - accuracy: 0.7356 - val_loss: 0.5271 - val_accuracy: 0.7375 - 63ms/epoch - 2ms/step\n",
            "Epoch 6/50\n",
            "38/38 - 0s - loss: 0.5209 - accuracy: 0.7506 - val_loss: 0.5205 - val_accuracy: 0.7325 - 64ms/epoch - 2ms/step\n",
            "Epoch 7/50\n",
            "38/38 - 0s - loss: 0.5145 - accuracy: 0.7531 - val_loss: 0.5159 - val_accuracy: 0.7400 - 65ms/epoch - 2ms/step\n",
            "Epoch 8/50\n",
            "38/38 - 0s - loss: 0.5094 - accuracy: 0.7515 - val_loss: 0.5138 - val_accuracy: 0.7300 - 59ms/epoch - 2ms/step\n",
            "Epoch 9/50\n",
            "38/38 - 0s - loss: 0.5059 - accuracy: 0.7506 - val_loss: 0.5110 - val_accuracy: 0.7325 - 59ms/epoch - 2ms/step\n",
            "Epoch 10/50\n",
            "38/38 - 0s - loss: 0.5023 - accuracy: 0.7490 - val_loss: 0.5104 - val_accuracy: 0.7325 - 52ms/epoch - 1ms/step\n",
            "Epoch 11/50\n",
            "38/38 - 0s - loss: 0.5001 - accuracy: 0.7548 - val_loss: 0.5095 - val_accuracy: 0.7325 - 66ms/epoch - 2ms/step\n",
            "Epoch 12/50\n",
            "38/38 - 0s - loss: 0.4970 - accuracy: 0.7565 - val_loss: 0.5094 - val_accuracy: 0.7400 - 68ms/epoch - 2ms/step\n",
            "Epoch 13/50\n",
            "38/38 - 0s - loss: 0.4943 - accuracy: 0.7523 - val_loss: 0.5088 - val_accuracy: 0.7325 - 63ms/epoch - 2ms/step\n",
            "Epoch 14/50\n",
            "38/38 - 0s - loss: 0.4928 - accuracy: 0.7540 - val_loss: 0.5083 - val_accuracy: 0.7375 - 53ms/epoch - 1ms/step\n",
            "Epoch 15/50\n",
            "38/38 - 0s - loss: 0.4899 - accuracy: 0.7565 - val_loss: 0.5084 - val_accuracy: 0.7375 - 62ms/epoch - 2ms/step\n",
            "Epoch 16/50\n",
            "38/38 - 0s - loss: 0.4888 - accuracy: 0.7581 - val_loss: 0.5093 - val_accuracy: 0.7325 - 51ms/epoch - 1ms/step\n",
            "Epoch 17/50\n",
            "38/38 - 0s - loss: 0.4866 - accuracy: 0.7581 - val_loss: 0.5092 - val_accuracy: 0.7400 - 69ms/epoch - 2ms/step\n",
            "Epoch 18/50\n",
            "38/38 - 0s - loss: 0.4862 - accuracy: 0.7623 - val_loss: 0.5091 - val_accuracy: 0.7400 - 55ms/epoch - 1ms/step\n",
            "Epoch 19/50\n",
            "38/38 - 0s - loss: 0.4831 - accuracy: 0.7565 - val_loss: 0.5091 - val_accuracy: 0.7500 - 55ms/epoch - 1ms/step\n",
            "Epoch 20/50\n",
            "38/38 - 0s - loss: 0.4823 - accuracy: 0.7606 - val_loss: 0.5103 - val_accuracy: 0.7400 - 57ms/epoch - 1ms/step\n",
            "Epoch 21/50\n",
            "38/38 - 0s - loss: 0.4797 - accuracy: 0.7640 - val_loss: 0.5100 - val_accuracy: 0.7450 - 65ms/epoch - 2ms/step\n",
            "Epoch 22/50\n",
            "38/38 - 0s - loss: 0.4783 - accuracy: 0.7606 - val_loss: 0.5098 - val_accuracy: 0.7450 - 61ms/epoch - 2ms/step\n",
            "Epoch 23/50\n",
            "38/38 - 0s - loss: 0.4766 - accuracy: 0.7690 - val_loss: 0.5111 - val_accuracy: 0.7400 - 60ms/epoch - 2ms/step\n",
            "Epoch 24/50\n",
            "38/38 - 0s - loss: 0.4748 - accuracy: 0.7681 - val_loss: 0.5115 - val_accuracy: 0.7450 - 52ms/epoch - 1ms/step\n",
            "Epoch 25/50\n",
            "38/38 - 0s - loss: 0.4734 - accuracy: 0.7698 - val_loss: 0.5108 - val_accuracy: 0.7425 - 61ms/epoch - 2ms/step\n",
            "Epoch 26/50\n",
            "38/38 - 0s - loss: 0.4727 - accuracy: 0.7706 - val_loss: 0.5121 - val_accuracy: 0.7400 - 55ms/epoch - 1ms/step\n",
            "Epoch 27/50\n",
            "38/38 - 0s - loss: 0.4711 - accuracy: 0.7748 - val_loss: 0.5120 - val_accuracy: 0.7450 - 66ms/epoch - 2ms/step\n",
            "Epoch 28/50\n",
            "38/38 - 0s - loss: 0.4693 - accuracy: 0.7740 - val_loss: 0.5124 - val_accuracy: 0.7450 - 51ms/epoch - 1ms/step\n",
            "Epoch 29/50\n",
            "38/38 - 0s - loss: 0.4676 - accuracy: 0.7781 - val_loss: 0.5133 - val_accuracy: 0.7450 - 66ms/epoch - 2ms/step\n",
            "Epoch 30/50\n",
            "38/38 - 0s - loss: 0.4661 - accuracy: 0.7781 - val_loss: 0.5145 - val_accuracy: 0.7450 - 55ms/epoch - 1ms/step\n",
            "Epoch 31/50\n",
            "38/38 - 0s - loss: 0.4654 - accuracy: 0.7773 - val_loss: 0.5146 - val_accuracy: 0.7500 - 58ms/epoch - 2ms/step\n",
            "Epoch 32/50\n",
            "38/38 - 0s - loss: 0.4634 - accuracy: 0.7815 - val_loss: 0.5149 - val_accuracy: 0.7525 - 65ms/epoch - 2ms/step\n",
            "Epoch 33/50\n",
            "38/38 - 0s - loss: 0.4614 - accuracy: 0.7832 - val_loss: 0.5151 - val_accuracy: 0.7525 - 57ms/epoch - 1ms/step\n",
            "Epoch 34/50\n",
            "38/38 - 0s - loss: 0.4602 - accuracy: 0.7815 - val_loss: 0.5155 - val_accuracy: 0.7525 - 56ms/epoch - 1ms/step\n",
            "Epoch 35/50\n",
            "38/38 - 0s - loss: 0.4592 - accuracy: 0.7848 - val_loss: 0.5167 - val_accuracy: 0.7575 - 57ms/epoch - 1ms/step\n",
            "Epoch 36/50\n",
            "38/38 - 0s - loss: 0.4587 - accuracy: 0.7815 - val_loss: 0.5164 - val_accuracy: 0.7525 - 55ms/epoch - 1ms/step\n",
            "Epoch 37/50\n",
            "38/38 - 0s - loss: 0.4567 - accuracy: 0.7890 - val_loss: 0.5193 - val_accuracy: 0.7525 - 53ms/epoch - 1ms/step\n",
            "Epoch 38/50\n",
            "38/38 - 0s - loss: 0.4553 - accuracy: 0.7857 - val_loss: 0.5195 - val_accuracy: 0.7550 - 54ms/epoch - 1ms/step\n",
            "Epoch 39/50\n",
            "38/38 - 0s - loss: 0.4547 - accuracy: 0.7907 - val_loss: 0.5191 - val_accuracy: 0.7525 - 55ms/epoch - 1ms/step\n",
            "Epoch 40/50\n",
            "38/38 - 0s - loss: 0.4530 - accuracy: 0.7907 - val_loss: 0.5203 - val_accuracy: 0.7600 - 55ms/epoch - 1ms/step\n",
            "Epoch 41/50\n",
            "38/38 - 0s - loss: 0.4519 - accuracy: 0.7915 - val_loss: 0.5204 - val_accuracy: 0.7575 - 59ms/epoch - 2ms/step\n",
            "Epoch 42/50\n",
            "38/38 - 0s - loss: 0.4514 - accuracy: 0.7898 - val_loss: 0.5223 - val_accuracy: 0.7525 - 54ms/epoch - 1ms/step\n",
            "Epoch 43/50\n",
            "38/38 - 0s - loss: 0.4509 - accuracy: 0.7907 - val_loss: 0.5212 - val_accuracy: 0.7575 - 55ms/epoch - 1ms/step\n",
            "Epoch 44/50\n",
            "38/38 - 0s - loss: 0.4486 - accuracy: 0.7957 - val_loss: 0.5247 - val_accuracy: 0.7425 - 46ms/epoch - 1ms/step\n",
            "Epoch 45/50\n",
            "38/38 - 0s - loss: 0.4479 - accuracy: 0.7965 - val_loss: 0.5234 - val_accuracy: 0.7500 - 67ms/epoch - 2ms/step\n",
            "Epoch 46/50\n",
            "38/38 - 0s - loss: 0.4470 - accuracy: 0.7973 - val_loss: 0.5247 - val_accuracy: 0.7475 - 46ms/epoch - 1ms/step\n",
            "Epoch 47/50\n",
            "38/38 - 0s - loss: 0.4488 - accuracy: 0.7923 - val_loss: 0.5261 - val_accuracy: 0.7500 - 69ms/epoch - 2ms/step\n",
            "Epoch 48/50\n",
            "38/38 - 0s - loss: 0.4462 - accuracy: 0.7965 - val_loss: 0.5246 - val_accuracy: 0.7500 - 57ms/epoch - 2ms/step\n",
            "Epoch 49/50\n",
            "38/38 - 0s - loss: 0.4444 - accuracy: 0.8007 - val_loss: 0.5266 - val_accuracy: 0.7500 - 57ms/epoch - 1ms/step\n",
            "Epoch 50/50\n",
            "38/38 - 0s - loss: 0.4433 - accuracy: 0.7990 - val_loss: 0.5283 - val_accuracy: 0.7450 - 57ms/epoch - 1ms/step\n"
          ]
        }
      ],
      "source": [
        "# Fit the model using 50 epochs and the training data\n",
        "epochs = 50\n",
        "history = model.fit(x_train_scaled, y_train, epochs=epochs, verbose=2, validation_data=(x_test_scaled, y_test))"
      ]
    },
    {
      "cell_type": "markdown",
      "metadata": {
        "id": "RfHMPZVI6q61"
      },
      "source": [
        "### Step 3: Evaluate the model using the test data to determine the model’s loss and accuracy.\n"
      ]
    },
    {
      "cell_type": "code",
      "execution_count": 98,
      "metadata": {
        "colab": {
          "base_uri": "https://localhost:8080/"
        },
        "id": "5hfVADKo6q61",
        "outputId": "7df473ad-3301-4b49-e5c3-16e1687cc1cf"
      },
      "outputs": [
        {
          "name": "stdout",
          "output_type": "stream",
          "text": [
            "13/13 - 0s - loss: 0.5283 - accuracy: 0.7450 - 28ms/epoch - 2ms/step\n",
            "Loss: 0.5282700061798096, Accuracy: 0.7450000047683716\n"
          ]
        }
      ],
      "source": [
        "# Evaluate the model loss and accuracy metrics using the evaluate method and the test data\n",
        "model_loss, model_accuracy = model.evaluate(x_test_scaled, y_test, verbose=2)\n",
        "\n",
        "# Display the model loss and accuracy results\n",
        "print(f\"Loss: {model_loss}, Accuracy: {model_accuracy}\")"
      ]
    },
    {
      "cell_type": "markdown",
      "metadata": {
        "id": "jpAv0rXA6q61"
      },
      "source": [
        "### Step 4: Save and export your model to a keras file, and name the file `student_loans.keras`.\n"
      ]
    },
    {
      "cell_type": "code",
      "execution_count": 99,
      "metadata": {
        "id": "q0MetN0W6q61"
      },
      "outputs": [],
      "source": [
        "# Set the model's file path\n",
        "path = './Pickled_Models/student_loans.keras'\n",
        "\n",
        "# Export your model to a keras file\n",
        "model.save(path)"
      ]
    },
    {
      "cell_type": "markdown",
      "metadata": {
        "id": "R1opCDdN6q61"
      },
      "source": [
        "---\n",
        "## Predict Loan Repayment Success by Using your Neural Network Model"
      ]
    },
    {
      "cell_type": "markdown",
      "metadata": {
        "id": "TfIfpeiy6q61"
      },
      "source": [
        "### Step 1: Reload your saved model."
      ]
    },
    {
      "cell_type": "code",
      "execution_count": 100,
      "metadata": {
        "id": "OCET2mvW6q61"
      },
      "outputs": [],
      "source": [
        "# Set the model's file path\n",
        "path = './Pickled_Models/student_loans.keras'\n",
        "\n",
        "# Load the model to a new object\n",
        "model_from_pkl = tf.keras.models.load_model(path)"
      ]
    },
    {
      "cell_type": "markdown",
      "metadata": {
        "id": "rTPKooGw6q61"
      },
      "source": [
        "### Step 2: Make predictions on the testing data and save the predictions to a DataFrame."
      ]
    },
    {
      "cell_type": "code",
      "execution_count": 101,
      "metadata": {
        "colab": {
          "base_uri": "https://localhost:8080/"
        },
        "id": "Vet7qjgx6q62",
        "outputId": "0925af42-7e12-4978-8396-2a2c1580e1eb"
      },
      "outputs": [
        {
          "name": "stdout",
          "output_type": "stream",
          "text": [
            "13/13 [==============================] - 0s 914us/step\n"
          ]
        },
        {
          "data": {
            "text/plain": [
              "array([[0.42905033],\n",
              "       [0.34549826],\n",
              "       [0.86861265],\n",
              "       [0.6748153 ],\n",
              "       [0.9912998 ]], dtype=float32)"
            ]
          },
          "execution_count": 101,
          "metadata": {},
          "output_type": "execute_result"
        }
      ],
      "source": [
        "# Make predictions with the test data\n",
        "predictions = model_from_pkl.predict(x_test_scaled)\n",
        "\n",
        "# Display a sample of the predictions\n",
        "predictions[:5]"
      ]
    },
    {
      "cell_type": "code",
      "execution_count": 102,
      "metadata": {
        "colab": {
          "base_uri": "https://localhost:8080/",
          "height": 424
        },
        "id": "87o8exFPhjfl",
        "outputId": "da5339c5-cea7-43e4-ec22-e168ea16dfa2"
      },
      "outputs": [],
      "source": [
        "# Save the predictions to a DataFrame and round the predictions to binary results\n",
        "predictions_df = pd.DataFrame(predictions, columns=[\"Predicted_Value\"])\n",
        "predictions_df['Predicted_Value'] = round(predictions_df['Predicted_Value'],0)"
      ]
    },
    {
      "cell_type": "markdown",
      "metadata": {
        "id": "oxxLwycg6q62"
      },
      "source": [
        "### Step 4: Display a classification report with the y test data and predictions"
      ]
    },
    {
      "cell_type": "code",
      "execution_count": 103,
      "metadata": {
        "colab": {
          "base_uri": "https://localhost:8080/"
        },
        "id": "UTxYZibW6q67",
        "outputId": "f341b396-9b4c-478c-dba8-f6d904ba10e3"
      },
      "outputs": [
        {
          "name": "stdout",
          "output_type": "stream",
          "text": [
            "              precision    recall  f1-score   support\n",
            "\n",
            "           0       0.71      0.78      0.74       188\n",
            "           1       0.79      0.71      0.75       212\n",
            "\n",
            "    accuracy                           0.74       400\n",
            "   macro avg       0.75      0.75      0.74       400\n",
            "weighted avg       0.75      0.74      0.75       400\n",
            "\n"
          ]
        }
      ],
      "source": [
        "# Print the classification report with the y test data and predictions\n",
        "print(classification_report(y_test, predictions_df['Predicted_Value']))"
      ]
    },
    {
      "cell_type": "markdown",
      "metadata": {
        "id": "8Aaof1tBtcp6"
      },
      "source": [
        "---\n",
        "## Discuss creating a recommendation system for student loans"
      ]
    },
    {
      "cell_type": "markdown",
      "metadata": {
        "id": "_CC8cNpNtcp6"
      },
      "source": [
        "Briefly answer the following questions in the space provided:\n",
        "\n",
        "1. Describe the data that you would need to collect to build a recommendation system to recommend student loan options for students. Explain why this data would be relevant and appropriate.\n",
        "\n",
        "    I believe the following data would be valuable to collect:\n",
        "    * Current financial assets of student - and cosigner if applicable - this can help understand collateral available against the loan.\n",
        "    * Field of study - aids in understanding projected income brackets and accordingly the repayment burden of different loan amounts\n",
        "    * Cost of program\n",
        "    * Length of the program / expected graduation\n",
        "    * Past academic performance - aids in evaluating the risk of the student failing to complete their studies\n",
        "    * Past Loan History / Credit Score - indications of creditworthiness\n",
        "    \n",
        "    These are a few of many possible fields to collect and would help gauge the financial burden to repay certain loan amounts by the borrower.\n",
        "\n",
        "\n",
        "2. Based on the data you chose to use in this recommendation system, would your model be using collaborative filtering, content-based filtering, or context-based filtering? Justify why the data you selected would be suitable for your choice of filtering method.\n",
        "\n",
        "    * I would try to employ context-based filtering as it is the most individualized and can overcome the issue with cold starting. The depth of analytics for context-based filtering can create recommendations specific to the individual user more readily than collaborative filtering. \n",
        "\n",
        "    * Some combination of filtering could be appropriate - for instance a collaborative filter creates student classes that drive certain high-level loan categories, subsequently utilizing a context-based filter for the more specific loan details.\n",
        "\n",
        "3. Describe two real-world challenges that you would take into consideration while building a recommendation system for student loans. Explain why these challenges would be of concern for a student loan recommendation system.\n",
        "\n",
        "    * Avoiding Bias: the model may become unintentionally biased towards certain fields of study, schools, or demographics. The data that is used to train the model will need to be carefully considered to ensure that seemingly benign data, such as ZIP code, doesn't accidentally introduce implicit information. \n",
        "\n",
        "    * Data Security: Due to the sensitive nature of loan documentation with personally identifiable information from social security numbers through home addresses, the training data will need to be properly secured and anonymized. "
      ]
    }
  ],
  "metadata": {
    "colab": {
      "provenance": []
    },
    "kernelspec": {
      "display_name": "Python 3 (ipykernel)",
      "language": "python",
      "name": "python3"
    },
    "language_info": {
      "codemirror_mode": {
        "name": "ipython",
        "version": 3
      },
      "file_extension": ".py",
      "mimetype": "text/x-python",
      "name": "python",
      "nbconvert_exporter": "python",
      "pygments_lexer": "ipython3",
      "version": "3.11.4"
    }
  },
  "nbformat": 4,
  "nbformat_minor": 0
}
